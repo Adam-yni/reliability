{
 "cells": [
  {
   "cell_type": "code",
   "execution_count": null,
   "metadata": {},
   "outputs": [],
   "source": [
    "import tensorflow as tf\n",
    "import tensorflow_datasets as tfds\n",
    "from tensorflow.keras.optimizers.schedules import PolynomialDecay\n",
    "from tensorflow.keras.optimizers import Adam\n",
    "import pandas as pd\n",
    "import numpy as np\n",
    "from sklearn.model_selection import train_test_split\n",
    "from transformers import AutoTokenizer\n",
    "from transformers import TFAutoModelForSequenceClassification"
   ]
  },
  {
   "cell_type": "code",
   "execution_count": null,
   "metadata": {},
   "outputs": [],
   "source": [
    "df = pd.read_excel('datasetlabelled.xlsx')\n",
    "df[\"label\"] = df[\"label\"].apply(lambda score: 1 if score == 1 else 0)\n",
    "df['review'] =df['text']\n",
    "df = df[[\"review\", \"label\", ]]\n",
    "# Get the underlying numpy arrays\n",
    "reviews = df['review'].values\n",
    "labels = df['label'].values"
   ]
  },
  {
   "cell_type": "code",
   "execution_count": null,
   "metadata": {},
   "outputs": [],
   "source": [
    "train_reviews, val_reviews, train_labels, val_labels = train_test_split(reviews, labels, test_size=.3)"
   ]
  },
  {
   "cell_type": "code",
   "execution_count": null,
   "metadata": {},
   "outputs": [],
   "source": [
    "checkpoint = \"distilbert-base-uncased\"\n",
    "#Assign tokenizer object to the tokenizer class\n",
    "tokenizer = AutoTokenizer.from_pretrained(checkpoint)"
   ]
  },
  {
   "cell_type": "code",
   "execution_count": null,
   "metadata": {},
   "outputs": [],
   "source": [
    "def tokenize_dataset(reviews):\n",
    "    encoded = tokenizer(\n",
    "        reviews,\n",
    "        padding=True,\n",
    "        truncation=True,\n",
    "        return_tensors='np',\n",
    "    )\n",
    "    return encoded.data\n",
    "# Need to convert to List[str] because the tokenizer expects List but not np.array\n",
    "tokenized_datasets = {\n",
    "    \"train\": tokenize_dataset(train_reviews.tolist()),\n",
    "    \"validation\": tokenize_dataset(val_reviews.tolist()),\n",
    "}"
   ]
  },
  {
   "cell_type": "code",
   "execution_count": null,
   "metadata": {},
   "outputs": [],
   "source": [
    "batch_size = 8\n",
    "num_epochs = 5\n",
    "num_train_steps = (len(train_reviews) // batch_size) * num_epochs\n",
    "# We let the declay goes from 1e-5 to 0 over course of training.\n",
    "\n",
    "lr_scheduler = PolynomialDecay(\n",
    "    initial_learning_rate=1e-5,\n",
    "    end_learning_rate=0.,\n",
    "    decay_steps=num_train_steps\n",
    ")\n",
    "# The optimizer is Adam with the learning rate schedule as specified\n",
    "opt = Adam(learning_rate=lr_scheduler)\n",
    "\n",
    "# Use the pretrained model from the same checkpoint as the tokenizer\n",
    "# The num_label is 2 because we have a binary classification problem (Positive\n",
    "# and negative)\n",
    "model = TFAutoModelForSequenceClassification.from_pretrained(checkpoint, num_labels=2)\n",
    "# The model return logit (not probability), so we need to make sure to use the\n",
    "# matching loss function to calculate the Cross Entropy from logits.\n",
    "loss = tf.keras.losses.SparseCategoricalCrossentropy(from_logits=True)\n",
    "# Compile the model and monitor the accuracy\n",
    "model.compile(optimizer=opt, loss=loss, metrics=['accuracy'])"
   ]
  },
  {
   "cell_type": "code",
   "execution_count": null,
   "metadata": {},
   "outputs": [],
   "source": [
    "history = model.fit(\n",
    "    tokenized_datasets['train'],\n",
    "    train_labels,\n",
    "    validation_data=(tokenized_datasets['validation'], val_labels),\n",
    "    batch_size=batch_size,\n",
    "    epochs=num_epochs\n",
    ")\n",
    "# END OF THE TRAINING PART FOR THE ALGORITHM IN CHARGE OF DETECTING THE SENTIMENT TOWARDS THE PRODUCT"
   ]
  },
  {
   "cell_type": "code",
   "execution_count": null,
   "metadata": {},
   "outputs": [],
   "source": [
    "Liste = ['It is bad',' I  like this laptop','I REGRET BUYING THIS LAPTOP']\n",
    "tokenized_inputs2 = tokenize_dataset(Liste)\n",
    "tf_output2 = model.predict(tokenized_inputs2)\n",
    "\n",
    "tf_prediction2 = tf.nn.softmax(tf_output2.logits, axis=1)\n",
    "labels2 = ['Positve','negative']\n",
    "label2 = tf.argmax(tf_prediction2, axis=1)\n",
    "liste2 = []\n",
    "for i in range(len(Liste)):\n",
    "  if label2[i] == 0:\n",
    "    liste2.append(labels2[1])\n",
    "  else:\n",
    "    liste2.append(labels2[0])\n",
    "\n",
    "print(liste2)"
   ]
  },
  {
   "cell_type": "code",
   "execution_count": null,
   "metadata": {},
   "outputs": [],
   "source": []
  }
 ],
 "metadata": {
  "kernelspec": {
   "display_name": "Python 3",
   "language": "python",
   "name": "python3"
  },
  "language_info": {
   "codemirror_mode": {
    "name": "ipython",
    "version": 3
   },
   "file_extension": ".py",
   "mimetype": "text/x-python",
   "name": "python",
   "nbconvert_exporter": "python",
   "pygments_lexer": "ipython3",
   "version": "3.11.7"
  }
 },
 "nbformat": 4,
 "nbformat_minor": 2
}
