{
 "cells": [
  {
   "cell_type": "code",
   "execution_count": 1,
   "metadata": {},
   "outputs": [
    {
     "name": "stdout",
     "output_type": "stream",
     "text": [
      "WARNING:tensorflow:From c:\\Users\\adamy\\AppData\\Local\\Programs\\Python\\Python311\\Lib\\site-packages\\keras\\src\\losses.py:2976: The name tf.losses.sparse_softmax_cross_entropy is deprecated. Please use tf.compat.v1.losses.sparse_softmax_cross_entropy instead.\n",
      "\n"
     ]
    },
    {
     "name": "stderr",
     "output_type": "stream",
     "text": [
      "c:\\Users\\adamy\\AppData\\Local\\Programs\\Python\\Python311\\Lib\\site-packages\\tqdm\\auto.py:21: TqdmWarning: IProgress not found. Please update jupyter and ipywidgets. See https://ipywidgets.readthedocs.io/en/stable/user_install.html\n",
      "  from .autonotebook import tqdm as notebook_tqdm\n"
     ]
    }
   ],
   "source": [
    "import tensorflow as tf\n",
    "import tensorflow_datasets as tfds\n",
    "from tensorflow.keras.optimizers.schedules import PolynomialDecay\n",
    "from tensorflow.keras.optimizers import Adam\n",
    "import pandas as pd\n",
    "import numpy as np\n",
    "from sklearn.model_selection import train_test_split\n",
    "from transformers import AutoTokenizer\n",
    "from transformers import TFAutoModelForSequenceClassification"
   ]
  },
  {
   "cell_type": "code",
   "execution_count": 2,
   "metadata": {},
   "outputs": [],
   "source": [
    "df = pd.read_excel('datasetlabelled.xlsx')\n",
    "df[\"label\"] = df[\"label\"].apply(lambda score: 1 if score == 1 else 0)\n",
    "df['review'] =df['text']\n",
    "df = df[[\"review\", \"label\", ]]\n",
    "# Get the underlying numpy arrays\n",
    "reviews = df['review'].values\n",
    "labels = df['label'].values"
   ]
  },
  {
   "cell_type": "code",
   "execution_count": 3,
   "metadata": {},
   "outputs": [],
   "source": [
    "train_reviews, val_reviews, train_labels, val_labels = train_test_split(reviews, labels, test_size=.3)"
   ]
  },
  {
   "cell_type": "code",
   "execution_count": 4,
   "metadata": {},
   "outputs": [
    {
     "name": "stderr",
     "output_type": "stream",
     "text": [
      "tokenizer_config.json: 100%|██████████| 48.0/48.0 [00:00<?, ?B/s]\n",
      "c:\\Users\\adamy\\AppData\\Local\\Programs\\Python\\Python311\\Lib\\site-packages\\huggingface_hub\\file_download.py:149: UserWarning: `huggingface_hub` cache-system uses symlinks by default to efficiently store duplicated files but your machine does not support them in C:\\Users\\adamy\\.cache\\huggingface\\hub\\models--distilbert-base-uncased. Caching files will still work but in a degraded version that might require more space on your disk. This warning can be disabled by setting the `HF_HUB_DISABLE_SYMLINKS_WARNING` environment variable. For more details, see https://huggingface.co/docs/huggingface_hub/how-to-cache#limitations.\n",
      "To support symlinks on Windows, you either need to activate Developer Mode or to run Python as an administrator. In order to see activate developer mode, see this article: https://docs.microsoft.com/en-us/windows/apps/get-started/enable-your-device-for-development\n",
      "  warnings.warn(message)\n",
      "config.json: 100%|██████████| 483/483 [00:00<?, ?B/s] \n",
      "vocab.txt: 100%|██████████| 232k/232k [00:00<00:00, 2.34MB/s]\n",
      "tokenizer.json: 100%|██████████| 466k/466k [00:00<00:00, 5.57MB/s]\n"
     ]
    }
   ],
   "source": [
    "checkpoint = \"distilbert-base-uncased\"\n",
    "#Assign tokenizer object to the tokenizer class\n",
    "tokenizer = AutoTokenizer.from_pretrained(checkpoint)"
   ]
  },
  {
   "cell_type": "code",
   "execution_count": 5,
   "metadata": {},
   "outputs": [],
   "source": [
    "def tokenize_dataset(reviews):\n",
    "    encoded = tokenizer(\n",
    "        reviews,\n",
    "        padding=True,\n",
    "        truncation=True,\n",
    "        return_tensors='np',\n",
    "    )\n",
    "    return encoded.data\n",
    "# Need to convert to List[str] because the tokenizer expects List but not np.array\n",
    "tokenized_datasets = {\n",
    "    \"train\": tokenize_dataset(train_reviews.tolist()),\n",
    "    \"validation\": tokenize_dataset(val_reviews.tolist()),\n",
    "}"
   ]
  },
  {
   "cell_type": "code",
   "execution_count": 6,
   "metadata": {},
   "outputs": [
    {
     "name": "stderr",
     "output_type": "stream",
     "text": [
      "model.safetensors: 100%|██████████| 268M/268M [00:19<00:00, 14.1MB/s] \n"
     ]
    },
    {
     "name": "stdout",
     "output_type": "stream",
     "text": [
      "WARNING:tensorflow:From c:\\Users\\adamy\\AppData\\Local\\Programs\\Python\\Python311\\Lib\\site-packages\\keras\\src\\backend.py:873: The name tf.get_default_graph is deprecated. Please use tf.compat.v1.get_default_graph instead.\n",
      "\n"
     ]
    },
    {
     "name": "stderr",
     "output_type": "stream",
     "text": [
      "Some weights of the PyTorch model were not used when initializing the TF 2.0 model TFDistilBertForSequenceClassification: ['vocab_transform.weight', 'vocab_layer_norm.weight', 'vocab_projector.bias', 'vocab_layer_norm.bias', 'vocab_transform.bias']\n",
      "- This IS expected if you are initializing TFDistilBertForSequenceClassification from a PyTorch model trained on another task or with another architecture (e.g. initializing a TFBertForSequenceClassification model from a BertForPreTraining model).\n",
      "- This IS NOT expected if you are initializing TFDistilBertForSequenceClassification from a PyTorch model that you expect to be exactly identical (e.g. initializing a TFBertForSequenceClassification model from a BertForSequenceClassification model).\n",
      "Some weights or buffers of the TF 2.0 model TFDistilBertForSequenceClassification were not initialized from the PyTorch model and are newly initialized: ['pre_classifier.weight', 'pre_classifier.bias', 'classifier.weight', 'classifier.bias']\n",
      "You should probably TRAIN this model on a down-stream task to be able to use it for predictions and inference.\n"
     ]
    }
   ],
   "source": [
    "batch_size = 8\n",
    "num_epochs = 5\n",
    "num_train_steps = (len(train_reviews) // batch_size) * num_epochs\n",
    "# We let the declay goes from 1e-5 to 0 over course of training.\n",
    "\n",
    "lr_scheduler = PolynomialDecay(\n",
    "    initial_learning_rate=1e-5,\n",
    "    end_learning_rate=0.,\n",
    "    decay_steps=num_train_steps\n",
    ")\n",
    "# The optimizer is Adam with the learning rate schedule as specified\n",
    "opt = Adam(learning_rate=lr_scheduler)\n",
    "\n",
    "# Use the pretrained model from the same checkpoint as the tokenizer\n",
    "# The num_label is 2 because we have a binary classification problem (Positive\n",
    "# and negative)\n",
    "model = TFAutoModelForSequenceClassification.from_pretrained(checkpoint, num_labels=2)\n",
    "# The model return logit (not probability), so we need to make sure to use the\n",
    "# matching loss function to calculate the Cross Entropy from logits.\n",
    "loss = tf.keras.losses.SparseCategoricalCrossentropy(from_logits=True)\n",
    "# Compile the model and monitor the accuracy\n",
    "model.compile(optimizer=opt, loss=loss, metrics=['accuracy'])"
   ]
  },
  {
   "cell_type": "code",
   "execution_count": 7,
   "metadata": {},
   "outputs": [
    {
     "name": "stdout",
     "output_type": "stream",
     "text": [
      "Epoch 1/5\n",
      "WARNING:tensorflow:From c:\\Users\\adamy\\AppData\\Local\\Programs\\Python\\Python311\\Lib\\site-packages\\keras\\src\\utils\\tf_utils.py:492: The name tf.ragged.RaggedTensorValue is deprecated. Please use tf.compat.v1.ragged.RaggedTensorValue instead.\n",
      "\n",
      "WARNING:tensorflow:From c:\\Users\\adamy\\AppData\\Local\\Programs\\Python\\Python311\\Lib\\site-packages\\keras\\src\\engine\\base_layer_utils.py:384: The name tf.executing_eagerly_outside_functions is deprecated. Please use tf.compat.v1.executing_eagerly_outside_functions instead.\n",
      "\n",
      "68/68 [==============================] - 78s 880ms/step - loss: 0.6148 - accuracy: 0.6865 - val_loss: 0.4132 - val_accuracy: 0.9221\n",
      "Epoch 2/5\n",
      "68/68 [==============================] - 54s 792ms/step - loss: 0.2587 - accuracy: 0.9295 - val_loss: 0.2185 - val_accuracy: 0.9221\n",
      "Epoch 3/5\n",
      "68/68 [==============================] - 53s 779ms/step - loss: 0.1383 - accuracy: 0.9629 - val_loss: 0.2102 - val_accuracy: 0.9307\n",
      "Epoch 4/5\n",
      "68/68 [==============================] - 51s 751ms/step - loss: 0.0870 - accuracy: 0.9852 - val_loss: 0.2382 - val_accuracy: 0.9177\n",
      "Epoch 5/5\n",
      "68/68 [==============================] - 50s 741ms/step - loss: 0.0644 - accuracy: 0.9944 - val_loss: 0.2088 - val_accuracy: 0.9264\n"
     ]
    }
   ],
   "source": [
    "history = model.fit(\n",
    "    tokenized_datasets['train'],\n",
    "    train_labels,\n",
    "    validation_data=(tokenized_datasets['validation'], val_labels),\n",
    "    batch_size=batch_size,\n",
    "    epochs=num_epochs\n",
    ")\n",
    "# END OF THE TRAINING PART FOR THE ALGORITHM IN CHARGE OF DETECTING THE SENTIMENT TOWARDS THE PRODUCT"
   ]
  },
  {
   "cell_type": "code",
   "execution_count": 9,
   "metadata": {},
   "outputs": [
    {
     "name": "stdout",
     "output_type": "stream",
     "text": [
      "1/1 [==============================] - 3s 3s/step\n",
      "['Negative', 'Positive', 'Negative', 'Positive', 'Positive']\n"
     ]
    }
   ],
   "source": [
    "Liste = ['I am deeply disappointed with this laptop',' I  like this laptop','I regret buying this laptop', \"This computer is very practical for everyday tasks \",'After getting used to it, this computer is very pleasant to use.']\n",
    "tokenized_inputs = tokenize_dataset(Liste)\n",
    "tf_output = model.predict(tokenized_inputs)\n",
    "\n",
    "tf_prediction = tf.nn.softmax(tf_output.logits, axis=1)\n",
    "labels = ['Positive','Negative']\n",
    "label = tf.argmax(tf_prediction, axis=1)\n",
    "sentiment_list = []\n",
    "for i in range(len(Liste)):\n",
    "  if label[i] == 0:\n",
    "    sentiment_list.append(labels[1])\n",
    "  else:\n",
    "    sentiment_list.append(labels[0])\n",
    "\n",
    "print(sentiment_list)"
   ]
  }
 ],
 "metadata": {
  "kernelspec": {
   "display_name": "Python 3",
   "language": "python",
   "name": "python3"
  },
  "language_info": {
   "codemirror_mode": {
    "name": "ipython",
    "version": 3
   },
   "file_extension": ".py",
   "mimetype": "text/x-python",
   "name": "python",
   "nbconvert_exporter": "python",
   "pygments_lexer": "ipython3",
   "version": "3.11.7"
  }
 },
 "nbformat": 4,
 "nbformat_minor": 2
}
